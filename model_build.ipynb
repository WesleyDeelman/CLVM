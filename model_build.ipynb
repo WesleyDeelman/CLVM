{
 "cells": [
  {
   "cell_type": "markdown",
   "id": "375a7fc0",
   "metadata": {},
   "source": [
    "### Our main objective for this code is to find segments that vary in payment amounts/behaviour the assumption being that each has a stable segment level performance, which is a reasonable assumption because we have cohorts that are the same with respect to the segment/model score.\n",
    "\n",
    "We are working with synthetic data, so there are distributions and such that doesn't follow the norm for real data, despite this - building the scaffolding for creating a CLV will still be pertinent.\n",
    "\n",
    "Below is a class that loads the synthetic data, and maps the columns CustomerID,TransactionDate,TransactionAmount to the correct name. There are also methods in this class for creating RFM measures, RFM Segments, Demographics and Transaction Descriptor features (which I dont use), if you can do something useful with it then by all means.\n",
    "\n",
    "Please Note that the dataloader, and rfm methods are general methods they can be used with any data that contains the columns CustomerID,TransactionID,TransactionDate,TransactionAmount.\n",
    "\n",
    "I will close off by saying that the point of this exercise is to end off with segments that have stable performance at the \"crowd\" level. Thus nullifying the problem of high variance when trying to do a regression.\n",
    "\n",
    "Once we have these segments, we have a choice of 2, we will then extrapolate payments per cohort/crowd/group. That will be the next step, this work will be carried out in a seperate notebook and class with written for the Vintage object with optimisation methods."
   ]
  },
  {
   "cell_type": "code",
   "execution_count": 1,
   "id": "1e85ec90",
   "metadata": {},
   "outputs": [
    {
     "name": "stderr",
     "output_type": "stream",
     "text": [
      "d:\\VS CODE PROJECTS\\CLVM\\.venv\\Lib\\site-packages\\tqdm\\auto.py:21: TqdmWarning: IProgress not found. Please update jupyter and ipywidgets. See https://ipywidgets.readthedocs.io/en/stable/user_install.html\n",
      "  from .autonotebook import tqdm as notebook_tqdm\n"
     ]
    }
   ],
   "source": [
    "import pandas as pd\n",
    "from pathlib import Path\n",
    "import rfmbinner\n",
    "import sklearn\n",
    "import joblib\n",
    "import xgboost as xgb\n",
    "import numpy as np\n",
    "import category_encoders as ce\n",
    "import optuna\n",
    "import random\n",
    "\n",
    "class DataLoader:\n",
    "    \n",
    "    def __init__(self,path,customer_id,transaction_id,transaction_date,amount):\n",
    "        \"\"\"\n",
    "        Initialize the DataLoader.\n",
    "\n",
    "        Parameters:\n",
    "            path (str): Path to the CSV file.\n",
    "            customer_id (str): Column name for customer IDs.\n",
    "            transaction_id (str): Column name for transaction IDs.\n",
    "            transaction_date (str): Column name for transaction dates.\n",
    "            amount (str): Column name for transaction amounts.\n",
    "        \n",
    "        \"\"\"\n",
    "        self.path = path\n",
    "        self.customer_id = customer_id\n",
    "        self.transaction_id = transaction_id\n",
    "        self.transaction_date = transaction_date \n",
    "        self.amount = amount \n",
    "        \n",
    "    def fetch_data(self) -> pd.DataFrame:\n",
    "        \"\"\"\n",
    "        Fetch raw CSV data from the specified path.\n",
    "\n",
    "        Parameters:\n",
    "            path (str): Path to the CSV file.\n",
    "        \n",
    "        Returns:\n",
    "            pd.DataFrame: Loaded data.\n",
    "        \"\"\"\n",
    "        data_path = Path(self.path)\n",
    "        if not data_path.exists():\n",
    "            raise FileNotFoundError(f\"CSV file not found at: {data_path}\")\n",
    "        data = pd.read_csv(data_path)\n",
    "        data.rename(columns={self.customer_id:'CustomerID',\n",
    "                             self.transaction_id: 'TransactionID',\n",
    "                             self.transaction_date: 'Date',\n",
    "                             self.amount: 'Amount'}, inplace=True)\n",
    "        data['Date'] = pd.to_datetime(data['Date'],format='%Y-%m-%d')\n",
    "        return data\n",
    "    \n",
    "    def calculate_rfm(self, snapshot_date: str, window: pd.Timedelta,df: pd.DataFrame) -> pd.DataFrame:\n",
    "        \"\"\"\n",
    "        Calculate RFM metrics for customer segmentation.\n",
    "\n",
    "        Parameters:\n",
    "            snapshot_date (str): Date to calculate recency from (YYYY-MM-DD).\n",
    "        \n",
    "        Returns:\n",
    "            pd.DataFrame: RFM metrics per CustomerID.\n",
    "        \"\"\"\n",
    "        data = df.copy()\n",
    "        snapshot = pd.to_datetime(snapshot_date)\n",
    "        data['Date'] = pd.to_datetime(data.Date)\n",
    "        data  = data[(data.Date<snapshot) & (data.Date>(snapshot-window))]\n",
    "        data['recency'] = (snapshot - pd.to_datetime(data['Date'])).dt.days\n",
    "        rfm = data.groupby('CustomerID').agg({\n",
    "            'recency': 'min',\n",
    "            'TransactionID': 'count',               # frequency: number of transactions\n",
    "            'Amount': 'sum'             # monetary: total spend\n",
    "        }).reset_index()\n",
    "\n",
    "        rfm.rename(columns={'TransactionID': 'frequency', 'Amount': 'monetary'}, inplace=True)\n",
    "        rfm['date'] = snapshot_date\n",
    "\n",
    "        return rfm[['CustomerID', 'date', 'recency', 'frequency', 'monetary']]\n",
    "    \n",
    "    def calculate_target(self,date: str, window_size: pd.Timedelta, \\\n",
    "                         repurchase_threshold: float, df: pd.DataFrame) -> pd.DataFrame:\n",
    "        \"\"\"\n",
    "        Calculating the target for the model\n",
    "        Parameters:\n",
    "            date (str): Date to calculate recency from (YYYY-MM-DD).\n",
    "            window_size (pd.Timedelta): Number of days in which to consider repurchase\n",
    "            repurchase_threshold: Minimum spend to be considered a repurchase\n",
    "        Returns:\n",
    "            pd.DataFrame: Target per CustomerID.\n",
    "        \"\"\"\n",
    "        #caculate whether a customer made total purchases after date exceeding repurchase threshold\n",
    "        data = df.copy()\n",
    "        future_purchases = data[(data['Date'] > date) & \\\n",
    "                                (data['Date'] <= date + window_size)]\n",
    "\n",
    "        target_customers = future_purchases.groupby('CustomerID')[['Amount']].sum()\n",
    "        target_customers = target_customers[target_customers >= repurchase_threshold].index\n",
    "\n",
    "        total_future_purchases = future_purchases.groupby('CustomerID')[['Amount']].sum()\n",
    "        data = data.merge(total_future_purchases.rename(columns={'Amount': 'subsequent_purchases'}),\n",
    "                            on='CustomerID', how='left')\n",
    "        data['subsequent_purchases'] = data['subsequent_purchases'].fillna(0)\n",
    "\n",
    "        data['target'] = data['CustomerID'].isin(target_customers).astype(int)\n",
    "        data['date'] = date\n",
    "        return data[['CustomerID','date','target','subsequent_purchases']].drop_duplicates()\n",
    "    \n",
    "    def rfm_segments(self,date: str, window: pd.Timedelta, df: pd.DataFrame) -> pd.DataFrame:\n",
    "        \"\"\"\n",
    "        Segments customers based on their RFM score.\n",
    "\n",
    "        Parameters:\n",
    "            date (str): Date to calculate recency from (YYYY-MM-DD).\n",
    "            df (pd.DataFrame): Raw transactional data.\n",
    "        \n",
    "        Returns:\n",
    "            pd.DataFrame: RFM segments per CustomerID.\n",
    "        \"\"\"\n",
    "        data = df.copy()\n",
    "        data = self.calculate_rfm(date,window,data)\n",
    "        # Create RFM scores\n",
    "        data['r_score'] = pd.qcut(data['recency'].rank(method='first'), 5, labels=[5, 4, 3, 2, 1])\n",
    "        data['f_score'] = pd.qcut(data['frequency'].rank(method='first'), 5, labels=[1, 2, 3, 4, 5])\n",
    "        data['m_score'] = pd.qcut(data['monetary'].rank(method='first'), 5, labels=[1, 2, 3, 4, 5])\n",
    "        data['rfm_score'] = data['r_score'].astype(str) + \\\n",
    "                            data['f_score'].astype(str) + \\\n",
    "                            data['m_score'].astype(str)\n",
    "        data['rfm_score_int'] = data['r_score'].astype(int) + \\\n",
    "                                data['f_score'].astype(int)+ \\\n",
    "                                data['m_score'].astype(int)           \n",
    "        #create a dicitionary with the rfm_score that maps into segment, the key must be a regex\n",
    "        segment_map = {\n",
    "                        r'^55[1-5]$': 'Champions',\n",
    "                        r'^54[1-5]$': 'Loyal Customers',\n",
    "                        r'^45[1-5]$': 'Potential Loyalists',\n",
    "                        r'^53[1-5]$': 'New or Returning Customers',\n",
    "                        r'^33[1-5]$': 'Promising',\n",
    "                        r'^22[1-5]$': 'Needs Attention',\n",
    "                        r'^\\d{3}$': 'Others'  # Matches any other 3-digit score\n",
    "                    }\n",
    "        data['segment'] = data['rfm_score'].replace(segment_map, regex=True)\n",
    "        data['date'] = date\n",
    "        return data[['CustomerID', 'date', 'rfm_score','rfm_score_int', 'segment']]\n",
    "    \n",
    "    def dedup_demographic_variables(self,df: pd.DataFrame) -> pd.DataFrame:\n",
    "        \"\"\"\n",
    "        Deduplicate demographic variables for each customer, keeping the latest entry.\n",
    "        \n",
    "        Parameters:\n",
    "            df (pd.DataFrame): Raw transactional data with demographic information.\n",
    "        \n",
    "        Returns:\n",
    "            pd.DataFrame: Deduplicated demographic data per CustomerID.\n",
    "        \"\"\"\n",
    "        data = df.copy()\n",
    "        data['Date'] = pd.to_datetime(data['Date'],format='%m-%d-%Y %H:%M:%S')\n",
    "        \n",
    "        # Sort by CustomerID and Date to get the most recent demographic info\n",
    "        data = data.sort_values(by=['CustomerID', 'Date'], ascending=True)\n",
    "        \n",
    "        # Drop duplicates, keeping the last (most recent) entry for each CustomerID\n",
    "        # Assuming demographic variables are 'Gender', 'Age', 'Age Group', extend to the actual list\n",
    "        demographic_cols = ['CustomerID', 'Gender', 'Age','Province']\n",
    "        deduplicated_demographics = data[demographic_cols].drop_duplicates(subset=['CustomerID'], keep='last')\n",
    "        \n",
    "        return deduplicated_demographics\n",
    "    \n",
    "   \n"
   ]
  },
  {
   "cell_type": "markdown",
   "id": "8744700a",
   "metadata": {},
   "source": [
    "For the code below the process is as follows:\n",
    "\n",
    "1. Initialise a dataloader\n",
    "2. Fetch the synthetic data\n",
    "3. Run the appropriate methods of the dataloader in order to create a collection of features\n",
    "4. We join all the features together and create a \"model_data\" dataframe."
   ]
  },
  {
   "cell_type": "code",
   "execution_count": 2,
   "id": "1fa2e986",
   "metadata": {},
   "outputs": [],
   "source": [
    "params = {'path':r'data\\customer_transaction_data.csv',\n",
    "            'customer_id':'CustomerID',\n",
    "            'transaction_id':'TransactionID',\n",
    "            'transaction_date':'PurchaseDate',\n",
    "            'amount':'TotalAmount'}\n",
    "loader = DataLoader(**params)\n",
    "data = loader.fetch_data()"
   ]
  },
  {
   "cell_type": "code",
   "execution_count": 3,
   "id": "474f3611",
   "metadata": {},
   "outputs": [
    {
     "data": {
      "application/vnd.microsoft.datawrangler.viewer.v0+json": {
       "columns": [
        {
         "name": "index",
         "rawType": "object",
         "type": "string"
        },
        {
         "name": "Date",
         "rawType": "datetime64[ns]",
         "type": "datetime"
        }
       ],
       "ref": "3b91e8c9-ef83-4a20-a5e1-8a0fd1a93f05",
       "rows": [
        [
         "min",
         "2020-08-09 00:00:00"
        ],
        [
         "max",
         "2025-08-09 00:00:00"
        ]
       ],
       "shape": {
        "columns": 1,
        "rows": 2
       }
      },
      "text/plain": [
       "min   2020-08-09\n",
       "max   2025-08-09\n",
       "Name: Date, dtype: datetime64[ns]"
      ]
     },
     "execution_count": 3,
     "metadata": {},
     "output_type": "execute_result"
    }
   ],
   "source": [
    "data['Date'].agg(['min','max'])"
   ]
  },
  {
   "cell_type": "code",
   "execution_count": 4,
   "id": "f6963acc",
   "metadata": {},
   "outputs": [],
   "source": [
    "start_date = '2022-08-30'\n",
    "end_date = pd.to_datetime('2025-09-26')\n",
    "pivot_date = pd.to_datetime(start_date)\n",
    "rfms = []\n",
    "targets = []\n",
    "rfm_segments = []\n",
    "transaction_descriptor_data = []\n",
    "\n",
    "while pivot_date<end_date:\n",
    "    rfms.append(loader.calculate_rfm(pivot_date,pd.Timedelta(days=99999),data))\n",
    "    rfm_segments.append(loader.rfm_segments(pivot_date,pd.Timedelta(days=99999),data))\n",
    "    targets.append(loader.calculate_target(pivot_date,pd.Timedelta(weeks=56),0,data))\n",
    "    pivot_date+=pd.Timedelta(weeks=2)\n",
    "\n",
    "rfm_data = pd.concat(rfms)\n",
    "target_data = pd.concat(targets)\n",
    "rfm_segments = pd.concat(rfm_segments)\n",
    "dem_data = loader.dedup_demographic_variables(data)"
   ]
  },
  {
   "cell_type": "code",
   "execution_count": 5,
   "id": "b6986d80",
   "metadata": {},
   "outputs": [
    {
     "data": {
      "text/plain": [
       "100000"
      ]
     },
     "execution_count": 5,
     "metadata": {},
     "output_type": "execute_result"
    }
   ],
   "source": [
    "len(data)"
   ]
  },
  {
   "cell_type": "code",
   "execution_count": 6,
   "id": "bfad895d",
   "metadata": {},
   "outputs": [],
   "source": [
    "model_data = rfm_data.merge(target_data,how='left',left_on=['CustomerID','date'],right_on=['CustomerID','date'])\n",
    "model_data = model_data.merge(dem_data,how='left',left_on='CustomerID',right_on='CustomerID')\n",
    "#model_data = model_data.merge(transaction_descriptor_data,how='left', left_on=['CustomerID','date'],right_on=['CustomerID','date'])\n",
    "model_data = model_data.merge(rfm_segments.drop('segment',axis=1),how='left', left_on=['CustomerID','date'],right_on=['CustomerID','date'])"
   ]
  },
  {
   "cell_type": "code",
   "execution_count": 7,
   "id": "84a77c65",
   "metadata": {},
   "outputs": [
    {
     "data": {
      "text/plain": [
       "Index(['recency', 'frequency', 'monetary', 'target', 'subsequent_purchases',\n",
       "       'Gender', 'Age', 'Province', 'rfm_score_int'],\n",
       "      dtype='object')"
      ]
     },
     "execution_count": 7,
     "metadata": {},
     "output_type": "execute_result"
    }
   ],
   "source": [
    "end_date_of_training = '2024-07-31'\n",
    "model_data = model_data.set_index(['CustomerID','date']).drop('rfm_score',axis=1)\n",
    "model_data = model_data[model_data.index.get_level_values(1)<end_date_of_training]\n",
    "model_data.columns"
   ]
  },
  {
   "cell_type": "code",
   "execution_count": 8,
   "id": "95e9e929",
   "metadata": {},
   "outputs": [
    {
     "data": {
      "application/vnd.microsoft.datawrangler.viewer.v0+json": {
       "columns": [
        {
         "name": "target",
         "rawType": "int64",
         "type": "integer"
        },
        {
         "name": "count",
         "rawType": "float64",
         "type": "float"
        }
       ],
       "ref": "2ba654a5-468f-4e87-a492-d1ee9bf6effc",
       "rows": [
        [
         "0",
         "0.8824706371479056"
        ],
        [
         "1",
         "0.11752936285209438"
        ]
       ],
       "shape": {
        "columns": 1,
        "rows": 2
       }
      },
      "text/plain": [
       "target\n",
       "0    0.882471\n",
       "1    0.117529\n",
       "Name: count, dtype: float64"
      ]
     },
     "execution_count": 8,
     "metadata": {},
     "output_type": "execute_result"
    }
   ],
   "source": [
    "model_data.target.value_counts()/len(model_data)"
   ]
  },
  {
   "cell_type": "code",
   "execution_count": 9,
   "id": "4167c416",
   "metadata": {},
   "outputs": [
    {
     "name": "stderr",
     "output_type": "stream",
     "text": [
      "[I 2025-08-15 14:27:48,612] A new study created in memory with name: no-name-359f6562-1dc1-4226-b26b-d33fddd10d56\n",
      "[I 2025-08-15 14:27:50,750] Trial 0 finished with value: 0.6914685311891859 and parameters: {'booster': 'gbtree', 'lambda': 3.044521232030346e-08, 'alpha': 0.0003580644715811766, 'subsample': 0.5303498581700106, 'colsample_bytree': 0.6623721163440668, 'max_depth': 7, 'eta': 0.056372917722366606, 'scale_pos_weight': 0.5690651187747088}. Best is trial 0 with value: 0.6914685311891859.\n",
      "[I 2025-08-15 14:27:51,407] Trial 1 finished with value: 0.6288116747102028 and parameters: {'booster': 'gblinear', 'lambda': 0.0007284735691032068, 'alpha': 2.4815841293405826e-06, 'subsample': 0.6052854961699895, 'colsample_bytree': 0.5957189064986969, 'max_depth': 3, 'eta': 0.2532013050817113, 'scale_pos_weight': 0.18942037458824124}. Best is trial 0 with value: 0.6914685311891859.\n",
      "[I 2025-08-15 14:27:53,246] Trial 2 finished with value: 0.6637371798632562 and parameters: {'booster': 'dart', 'lambda': 7.350580570150913e-07, 'alpha': 0.05141672968938309, 'subsample': 0.5203597011168313, 'colsample_bytree': 0.5388362327500418, 'max_depth': 3, 'eta': 0.128619238591196, 'scale_pos_weight': 0.4124890816686838}. Best is trial 0 with value: 0.6914685311891859.\n",
      "[I 2025-08-15 14:27:55,252] Trial 3 finished with value: 0.6446706073231135 and parameters: {'booster': 'gblinear', 'lambda': 2.2055040174578853e-07, 'alpha': 0.0012114230213076873, 'subsample': 0.9509872151828374, 'colsample_bytree': 0.5024726587733743, 'max_depth': 3, 'eta': 0.05316951832662046, 'scale_pos_weight': 0.7066664840400221}. Best is trial 0 with value: 0.6914685311891859.\n",
      "[I 2025-08-15 14:27:55,878] Trial 4 finished with value: 0.6023382033419491 and parameters: {'booster': 'gblinear', 'lambda': 1.6735756396324753e-06, 'alpha': 0.00047078257562736434, 'subsample': 0.8985543130357609, 'colsample_bytree': 0.9374510104446259, 'max_depth': 4, 'eta': 0.1277942277435683, 'scale_pos_weight': 0.12019224533897044}. Best is trial 0 with value: 0.6914685311891859.\n",
      "[I 2025-08-15 14:27:57,498] Trial 5 finished with value: 0.7159849575320454 and parameters: {'booster': 'dart', 'lambda': 3.006995830097067, 'alpha': 0.32867679001092803, 'subsample': 0.836901138737663, 'colsample_bytree': 0.6424853248148916, 'max_depth': 8, 'eta': 0.29336751265687894, 'scale_pos_weight': 0.49021545194266936}. Best is trial 5 with value: 0.7159849575320454.\n",
      "[I 2025-08-15 14:28:02,536] Trial 6 finished with value: 0.6757568936564162 and parameters: {'booster': 'dart', 'lambda': 8.175494260628545e-08, 'alpha': 1.1995883090684773e-08, 'subsample': 0.8475803468337448, 'colsample_bytree': 0.7313633710356391, 'max_depth': 6, 'eta': 0.030628029025651253, 'scale_pos_weight': 0.2753298698930646}. Best is trial 5 with value: 0.7159849575320454.\n",
      "[I 2025-08-15 14:28:04,535] Trial 7 finished with value: 0.656819860515499 and parameters: {'booster': 'gblinear', 'lambda': 2.8896724136491426e-06, 'alpha': 3.0258245773397085e-07, 'subsample': 0.5816920776438312, 'colsample_bytree': 0.502397878987936, 'max_depth': 6, 'eta': 0.201096386350895, 'scale_pos_weight': 0.3314699442680791}. Best is trial 5 with value: 0.7159849575320454.\n",
      "[I 2025-08-15 14:28:05,601] Trial 8 finished with value: 0.6632130803539583 and parameters: {'booster': 'gbtree', 'lambda': 7.2531606709523e-05, 'alpha': 6.8285991239866926, 'subsample': 0.6365354032723707, 'colsample_bytree': 0.5236036693423101, 'max_depth': 9, 'eta': 0.03414095219635753, 'scale_pos_weight': 0.2956892397770752}. Best is trial 5 with value: 0.7159849575320454.\n",
      "[I 2025-08-15 14:28:07,223] Trial 9 finished with value: 0.6716172059070216 and parameters: {'booster': 'dart', 'lambda': 0.07357037310008838, 'alpha': 0.0010594378542718285, 'subsample': 0.7883629315631797, 'colsample_bytree': 0.9361281886356341, 'max_depth': 9, 'eta': 0.03601660331955045, 'scale_pos_weight': 0.03374318928410558}. Best is trial 5 with value: 0.7159849575320454.\n"
     ]
    },
    {
     "name": "stdout",
     "output_type": "stream",
     "text": [
      "              precision    recall  f1-score   support\n",
      "\n",
      "           0       0.89      1.00      0.94    428015\n",
      "           1       0.83      0.04      0.08     56884\n",
      "\n",
      "    accuracy                           0.89    484899\n",
      "   macro avg       0.86      0.52      0.51    484899\n",
      "weighted avg       0.88      0.89      0.84    484899\n",
      "\n",
      "ROC AUC: 0.6856625159942485\n"
     ]
    }
   ],
   "source": [
    "random.seed(1234)\n",
    "X_train, X_test, y_train, y_test = sklearn.model_selection.train_test_split(\n",
    "    model_data.drop(['target', 'subsequent_purchases'], axis=1),\n",
    "    model_data['target'],\n",
    "    test_size=0.2,\n",
    "    random_state=42\n",
    ")\n",
    "\n",
    "for col in X_train.columns:\n",
    "    sample = X_train[col].iloc[0]\n",
    "    if isinstance(sample, (list, np.ndarray)):\n",
    "        print(f\"Column '{col}' contains unhashable types: {type(sample)}\")\n",
    "\n",
    "encoder = ce.TargetEncoder()\n",
    "X_train = encoder.fit_transform(X_train, y_train)\n",
    "X_test = encoder.transform(X_test)\n",
    "joblib.dump(encoder,r'data\\encoder.pkl')\n",
    "\n",
    "# Optuna + XGBoost training\n",
    "def train_xgboost_with_optuna(X, y, n_trials=10, test_size=0.2, random_state=42):\n",
    "    X_train, X_val, y_train, y_val = sklearn.model_selection.train_test_split(\n",
    "        X, y, test_size=test_size, random_state=random_state\n",
    "    )\n",
    "\n",
    "    def objective(trial):\n",
    "        params = {\n",
    "            \"verbosity\": 0,\n",
    "            \"objective\": \"binary:logistic\",\n",
    "            \"eval_metric\": \"logloss\",\n",
    "            \"booster\": trial.suggest_categorical(\"booster\", [\"gbtree\", \"dart\",\"gblinear\"]),\n",
    "            \"lambda\": trial.suggest_float(\"lambda\", 1e-8, 10.0, log=True),\n",
    "            \"alpha\": trial.suggest_float(\"alpha\", 1e-8, 10.0, log=True),\n",
    "            \"subsample\": trial.suggest_float(\"subsample\", 0.5, 1.0),\n",
    "            \"colsample_bytree\": trial.suggest_float(\"colsample_bytree\", 0.5, 1.0),\n",
    "            \"max_depth\": trial.suggest_int(\"max_depth\", 3, 10),\n",
    "            \"eta\": trial.suggest_float(\"eta\", 0.01, 0.3),\n",
    "            \"scale_pos_weight\": trial.suggest_float(\"scale_pos_weight\",0,1)\n",
    "        }\n",
    "\n",
    "        dtrain = xgb.DMatrix(X_train, label=y_train)\n",
    "        dval = xgb.DMatrix(X_val, label=y_val)\n",
    "        model = xgb.train(params, dtrain, num_boost_round=50,\n",
    "                          evals=[(dval, \"validation\")],\n",
    "                          early_stopping_rounds=10,\n",
    "                          verbose_eval=False)\n",
    "        preds = model.predict(dval)\n",
    "        return sklearn.metrics.roc_auc_score(y_val, preds)\n",
    "\n",
    "    study = optuna.create_study(direction=\"maximize\")\n",
    "    study.optimize(objective, n_trials=n_trials)\n",
    "\n",
    "    best_params = study.best_params\n",
    "    best_params.update({\n",
    "        \"verbosity\": 0,\n",
    "        \"objective\": \"binary:logistic\",\n",
    "        \"eval_metric\": \"logloss\"\n",
    "    })\n",
    "\n",
    "    final_model = xgb.train(best_params, xgb.DMatrix(X, label=y), num_boost_round=study.best_trial.number)\n",
    "    return final_model, study\n",
    "\n",
    "# Train and evaluate\n",
    "model, study = train_xgboost_with_optuna(X_train, y_train)\n",
    "y_probs = model.predict(xgb.DMatrix(X_test))\n",
    "\n",
    "print(sklearn.metrics.classification_report(y_test, y_probs > 0.5))\n",
    "print(\"ROC AUC:\", sklearn.metrics.roc_auc_score(y_test, y_probs))\n"
   ]
  },
  {
   "cell_type": "code",
   "execution_count": 10,
   "id": "cea97a43",
   "metadata": {},
   "outputs": [
    {
     "data": {
      "text/plain": [
       "0.6856625159942485"
      ]
     },
     "execution_count": 10,
     "metadata": {},
     "output_type": "execute_result"
    }
   ],
   "source": [
    "sklearn.metrics.roc_auc_score(y_test,model.predict(xgb.DMatrix(X_test)))"
   ]
  },
  {
   "cell_type": "code",
   "execution_count": 11,
   "id": "2fbe8fa3",
   "metadata": {},
   "outputs": [
    {
     "data": {
      "text/plain": [
       "['data\\\\score_bins.pkl']"
      ]
     },
     "execution_count": 11,
     "metadata": {},
     "output_type": "execute_result"
    }
   ],
   "source": [
    "X_test['QSegment'],score_bins= pd.cut(y_probs,bins=[-np.inf,0.11,0.12,np.inf],retbins=True)\n",
    "joblib.dump(score_bins,r'data\\score_bins.pkl')"
   ]
  },
  {
   "cell_type": "code",
   "execution_count": 12,
   "id": "a13d6154",
   "metadata": {},
   "outputs": [
    {
     "name": "stderr",
     "output_type": "stream",
     "text": [
      "C:\\Users\\wesle\\AppData\\Local\\Temp\\ipykernel_8920\\238198811.py:2: FutureWarning: The default of observed=False is deprecated and will be changed to True in a future version of pandas. Pass observed=False to retain current behavior or observed=True to adopt the future default and silence this warning.\n",
      "  summary = summary_data.groupby('QSegment').agg({'recency':'count','monetary':'sum','target':'sum','subsequent_purchases':'sum'})\n"
     ]
    },
    {
     "data": {
      "application/vnd.microsoft.datawrangler.viewer.v0+json": {
       "columns": [
        {
         "name": "QSegment",
         "rawType": "category",
         "type": "unknown"
        },
        {
         "name": "Count",
         "rawType": "int64",
         "type": "integer"
        },
        {
         "name": "Purchase Rate",
         "rawType": "object",
         "type": "string"
        },
        {
         "name": "prior_purchases in ZAR",
         "rawType": "object",
         "type": "string"
        },
        {
         "name": "Value %",
         "rawType": "object",
         "type": "string"
        },
        {
         "name": "AVG subs. spend in ZAR",
         "rawType": "object",
         "type": "string"
        },
        {
         "name": "subsequent_purchases in ZAR (3 month window)",
         "rawType": "object",
         "type": "string"
        }
       ],
       "ref": "e55b682b-e6c2-45a5-9939-a75779491b51",
       "rows": [
        [
         "(-inf, 0.11]",
         "441167",
         "9.06%",
         "R 58,449,025.32",
         "66.59%",
         "R 15.13",
         "R 6,674,669.68"
        ],
        [
         "(0.11, 0.12]",
         "8058",
         "22.82%",
         "R 2,759,923.35",
         "3.14%",
         "R 53.42",
         "R 430,449.71"
        ],
        [
         "(0.12, inf]",
         "35674",
         "42.29%",
         "R 26,568,251.24",
         "30.27%",
         "R 138.25",
         "R 4,932,068.02"
        ]
       ],
       "shape": {
        "columns": 6,
        "rows": 3
       }
      },
      "text/html": [
       "<div>\n",
       "<style scoped>\n",
       "    .dataframe tbody tr th:only-of-type {\n",
       "        vertical-align: middle;\n",
       "    }\n",
       "\n",
       "    .dataframe tbody tr th {\n",
       "        vertical-align: top;\n",
       "    }\n",
       "\n",
       "    .dataframe thead th {\n",
       "        text-align: right;\n",
       "    }\n",
       "</style>\n",
       "<table border=\"1\" class=\"dataframe\">\n",
       "  <thead>\n",
       "    <tr style=\"text-align: right;\">\n",
       "      <th></th>\n",
       "      <th>Count</th>\n",
       "      <th>Purchase Rate</th>\n",
       "      <th>prior_purchases in ZAR</th>\n",
       "      <th>Value %</th>\n",
       "      <th>AVG subs. spend in ZAR</th>\n",
       "      <th>subsequent_purchases in ZAR (3 month window)</th>\n",
       "    </tr>\n",
       "    <tr>\n",
       "      <th>QSegment</th>\n",
       "      <th></th>\n",
       "      <th></th>\n",
       "      <th></th>\n",
       "      <th></th>\n",
       "      <th></th>\n",
       "      <th></th>\n",
       "    </tr>\n",
       "  </thead>\n",
       "  <tbody>\n",
       "    <tr>\n",
       "      <th>(-inf, 0.11]</th>\n",
       "      <td>441167</td>\n",
       "      <td>9.06%</td>\n",
       "      <td>R 58,449,025.32</td>\n",
       "      <td>66.59%</td>\n",
       "      <td>R 15.13</td>\n",
       "      <td>R 6,674,669.68</td>\n",
       "    </tr>\n",
       "    <tr>\n",
       "      <th>(0.11, 0.12]</th>\n",
       "      <td>8058</td>\n",
       "      <td>22.82%</td>\n",
       "      <td>R 2,759,923.35</td>\n",
       "      <td>3.14%</td>\n",
       "      <td>R 53.42</td>\n",
       "      <td>R 430,449.71</td>\n",
       "    </tr>\n",
       "    <tr>\n",
       "      <th>(0.12, inf]</th>\n",
       "      <td>35674</td>\n",
       "      <td>42.29%</td>\n",
       "      <td>R 26,568,251.24</td>\n",
       "      <td>30.27%</td>\n",
       "      <td>R 138.25</td>\n",
       "      <td>R 4,932,068.02</td>\n",
       "    </tr>\n",
       "  </tbody>\n",
       "</table>\n",
       "</div>"
      ],
      "text/plain": [
       "               Count Purchase Rate prior_purchases in ZAR Value %  \\\n",
       "QSegment                                                            \n",
       "(-inf, 0.11]  441167         9.06%        R 58,449,025.32  66.59%   \n",
       "(0.11, 0.12]    8058        22.82%         R 2,759,923.35   3.14%   \n",
       "(0.12, inf]    35674        42.29%        R 26,568,251.24  30.27%   \n",
       "\n",
       "             AVG subs. spend in ZAR  \\\n",
       "QSegment                              \n",
       "(-inf, 0.11]                R 15.13   \n",
       "(0.11, 0.12]                R 53.42   \n",
       "(0.12, inf]                R 138.25   \n",
       "\n",
       "             subsequent_purchases in ZAR (3 month window)  \n",
       "QSegment                                                   \n",
       "(-inf, 0.11]                               R 6,674,669.68  \n",
       "(0.11, 0.12]                                 R 430,449.71  \n",
       "(0.12, inf]                                R 4,932,068.02  "
      ]
     },
     "execution_count": 12,
     "metadata": {},
     "output_type": "execute_result"
    }
   ],
   "source": [
    "summary_data = X_test.merge(target_data,how='left', left_on=['CustomerID','date'], right_on=['CustomerID','date'])\n",
    "summary = summary_data.groupby('QSegment').agg({'recency':'count','monetary':'sum','target':'sum','subsequent_purchases':'sum'})\n",
    "summary = summary.rename(columns = {'recency':'Count','monetary':'prior_purchases','target':'Purchase Rate'})\n",
    "summary['prior_purchases in ZAR'] = summary.prior_purchases.apply(lambda x: f'R {x:,.2f}')\n",
    "summary['Value %'] = (summary['prior_purchases']/summary['prior_purchases'].sum()*100).apply(lambda x: f'{x:.2f}%')\n",
    "summary['AVG subs. spend in ZAR'] = (summary['subsequent_purchases']/summary.Count).apply(lambda x: f'R {x:.2f}')\n",
    "summary['subsequent_purchases in ZAR (3 month window)'] = summary.subsequent_purchases.apply(lambda x: f\"R {x:,.2f}\")\n",
    "summary['Purchase Rate'] =  (summary['Purchase Rate']/summary.Count).apply( lambda x: f'{x:.2%}')\n",
    "summary.drop(['prior_purchases','subsequent_purchases'],axis=1)"
   ]
  },
  {
   "cell_type": "code",
   "execution_count": 13,
   "id": "6707f5ad",
   "metadata": {},
   "outputs": [
    {
     "data": {
      "application/vnd.microsoft.datawrangler.viewer.v0+json": {
       "columns": [
        {
         "name": "rfm_score_int",
         "rawType": "int64",
         "type": "integer"
        },
        {
         "name": "Count",
         "rawType": "int64",
         "type": "integer"
        },
        {
         "name": "Purchase Rate",
         "rawType": "object",
         "type": "string"
        },
        {
         "name": "prior_purchases in ZAR",
         "rawType": "object",
         "type": "string"
        },
        {
         "name": "Value %",
         "rawType": "object",
         "type": "string"
        },
        {
         "name": "AVG subs. spend in ZAR",
         "rawType": "object",
         "type": "string"
        },
        {
         "name": "subsequent_purchases in ZAR (3 month window)",
         "rawType": "object",
         "type": "string"
        }
       ],
       "ref": "a25e24b4-89d4-42f9-a4d9-fce372aab54a",
       "rows": [
        [
         "3",
         "5404",
         "8.14%",
         "R 109,079.32",
         "0.12%",
         "R 12.52",
         "R 67,672.48"
        ],
        [
         "4",
         "15422",
         "8.02%",
         "R 521,860.06",
         "0.59%",
         "R 13.40",
         "R 206,710.74"
        ],
        [
         "5",
         "29059",
         "8.27%",
         "R 1,465,486.20",
         "1.67%",
         "R 13.03",
         "R 378,765.21"
        ],
        [
         "6",
         "47067",
         "7.73%",
         "R 3,310,910.84",
         "3.77%",
         "R 12.24",
         "R 576,140.59"
        ],
        [
         "7",
         "61423",
         "7.50%",
         "R 5,696,871.95",
         "6.49%",
         "R 11.48",
         "R 705,198.68"
        ],
        [
         "8",
         "66861",
         "8.14%",
         "R 8,023,284.60",
         "9.14%",
         "R 12.75",
         "R 852,480.61"
        ],
        [
         "9",
         "63893",
         "8.30%",
         "R 9,225,249.60",
         "10.51%",
         "R 13.39",
         "R 855,376.33"
        ],
        [
         "10",
         "55189",
         "9.37%",
         "R 9,437,714.52",
         "10.75%",
         "R 16.15",
         "R 891,531.20"
        ],
        [
         "11",
         "43152",
         "11.54%",
         "R 8,882,400.54",
         "10.12%",
         "R 19.36",
         "R 835,498.79"
        ],
        [
         "12",
         "32407",
         "14.91%",
         "R 8,271,029.40",
         "9.42%",
         "R 30.25",
         "R 980,317.83"
        ],
        [
         "13",
         "25417",
         "20.12%",
         "R 8,536,711.40",
         "9.73%",
         "R 46.59",
         "R 1,184,071.28"
        ],
        [
         "14",
         "21192",
         "29.01%",
         "R 10,175,826.43",
         "11.59%",
         "R 82.96",
         "R 1,757,985.54"
        ],
        [
         "15",
         "18413",
         "41.11%",
         "R 14,120,775.03",
         "16.09%",
         "R 149.10",
         "R 2,745,438.15"
        ]
       ],
       "shape": {
        "columns": 6,
        "rows": 13
       }
      },
      "text/html": [
       "<div>\n",
       "<style scoped>\n",
       "    .dataframe tbody tr th:only-of-type {\n",
       "        vertical-align: middle;\n",
       "    }\n",
       "\n",
       "    .dataframe tbody tr th {\n",
       "        vertical-align: top;\n",
       "    }\n",
       "\n",
       "    .dataframe thead th {\n",
       "        text-align: right;\n",
       "    }\n",
       "</style>\n",
       "<table border=\"1\" class=\"dataframe\">\n",
       "  <thead>\n",
       "    <tr style=\"text-align: right;\">\n",
       "      <th></th>\n",
       "      <th>Count</th>\n",
       "      <th>Purchase Rate</th>\n",
       "      <th>prior_purchases in ZAR</th>\n",
       "      <th>Value %</th>\n",
       "      <th>AVG subs. spend in ZAR</th>\n",
       "      <th>subsequent_purchases in ZAR (3 month window)</th>\n",
       "    </tr>\n",
       "    <tr>\n",
       "      <th>rfm_score_int</th>\n",
       "      <th></th>\n",
       "      <th></th>\n",
       "      <th></th>\n",
       "      <th></th>\n",
       "      <th></th>\n",
       "      <th></th>\n",
       "    </tr>\n",
       "  </thead>\n",
       "  <tbody>\n",
       "    <tr>\n",
       "      <th>3</th>\n",
       "      <td>5404</td>\n",
       "      <td>8.14%</td>\n",
       "      <td>R 109,079.32</td>\n",
       "      <td>0.12%</td>\n",
       "      <td>R 12.52</td>\n",
       "      <td>R 67,672.48</td>\n",
       "    </tr>\n",
       "    <tr>\n",
       "      <th>4</th>\n",
       "      <td>15422</td>\n",
       "      <td>8.02%</td>\n",
       "      <td>R 521,860.06</td>\n",
       "      <td>0.59%</td>\n",
       "      <td>R 13.40</td>\n",
       "      <td>R 206,710.74</td>\n",
       "    </tr>\n",
       "    <tr>\n",
       "      <th>5</th>\n",
       "      <td>29059</td>\n",
       "      <td>8.27%</td>\n",
       "      <td>R 1,465,486.20</td>\n",
       "      <td>1.67%</td>\n",
       "      <td>R 13.03</td>\n",
       "      <td>R 378,765.21</td>\n",
       "    </tr>\n",
       "    <tr>\n",
       "      <th>6</th>\n",
       "      <td>47067</td>\n",
       "      <td>7.73%</td>\n",
       "      <td>R 3,310,910.84</td>\n",
       "      <td>3.77%</td>\n",
       "      <td>R 12.24</td>\n",
       "      <td>R 576,140.59</td>\n",
       "    </tr>\n",
       "    <tr>\n",
       "      <th>7</th>\n",
       "      <td>61423</td>\n",
       "      <td>7.50%</td>\n",
       "      <td>R 5,696,871.95</td>\n",
       "      <td>6.49%</td>\n",
       "      <td>R 11.48</td>\n",
       "      <td>R 705,198.68</td>\n",
       "    </tr>\n",
       "    <tr>\n",
       "      <th>8</th>\n",
       "      <td>66861</td>\n",
       "      <td>8.14%</td>\n",
       "      <td>R 8,023,284.60</td>\n",
       "      <td>9.14%</td>\n",
       "      <td>R 12.75</td>\n",
       "      <td>R 852,480.61</td>\n",
       "    </tr>\n",
       "    <tr>\n",
       "      <th>9</th>\n",
       "      <td>63893</td>\n",
       "      <td>8.30%</td>\n",
       "      <td>R 9,225,249.60</td>\n",
       "      <td>10.51%</td>\n",
       "      <td>R 13.39</td>\n",
       "      <td>R 855,376.33</td>\n",
       "    </tr>\n",
       "    <tr>\n",
       "      <th>10</th>\n",
       "      <td>55189</td>\n",
       "      <td>9.37%</td>\n",
       "      <td>R 9,437,714.52</td>\n",
       "      <td>10.75%</td>\n",
       "      <td>R 16.15</td>\n",
       "      <td>R 891,531.20</td>\n",
       "    </tr>\n",
       "    <tr>\n",
       "      <th>11</th>\n",
       "      <td>43152</td>\n",
       "      <td>11.54%</td>\n",
       "      <td>R 8,882,400.54</td>\n",
       "      <td>10.12%</td>\n",
       "      <td>R 19.36</td>\n",
       "      <td>R 835,498.79</td>\n",
       "    </tr>\n",
       "    <tr>\n",
       "      <th>12</th>\n",
       "      <td>32407</td>\n",
       "      <td>14.91%</td>\n",
       "      <td>R 8,271,029.40</td>\n",
       "      <td>9.42%</td>\n",
       "      <td>R 30.25</td>\n",
       "      <td>R 980,317.83</td>\n",
       "    </tr>\n",
       "    <tr>\n",
       "      <th>13</th>\n",
       "      <td>25417</td>\n",
       "      <td>20.12%</td>\n",
       "      <td>R 8,536,711.40</td>\n",
       "      <td>9.73%</td>\n",
       "      <td>R 46.59</td>\n",
       "      <td>R 1,184,071.28</td>\n",
       "    </tr>\n",
       "    <tr>\n",
       "      <th>14</th>\n",
       "      <td>21192</td>\n",
       "      <td>29.01%</td>\n",
       "      <td>R 10,175,826.43</td>\n",
       "      <td>11.59%</td>\n",
       "      <td>R 82.96</td>\n",
       "      <td>R 1,757,985.54</td>\n",
       "    </tr>\n",
       "    <tr>\n",
       "      <th>15</th>\n",
       "      <td>18413</td>\n",
       "      <td>41.11%</td>\n",
       "      <td>R 14,120,775.03</td>\n",
       "      <td>16.09%</td>\n",
       "      <td>R 149.10</td>\n",
       "      <td>R 2,745,438.15</td>\n",
       "    </tr>\n",
       "  </tbody>\n",
       "</table>\n",
       "</div>"
      ],
      "text/plain": [
       "               Count Purchase Rate prior_purchases in ZAR Value %  \\\n",
       "rfm_score_int                                                       \n",
       "3               5404         8.14%           R 109,079.32   0.12%   \n",
       "4              15422         8.02%           R 521,860.06   0.59%   \n",
       "5              29059         8.27%         R 1,465,486.20   1.67%   \n",
       "6              47067         7.73%         R 3,310,910.84   3.77%   \n",
       "7              61423         7.50%         R 5,696,871.95   6.49%   \n",
       "8              66861         8.14%         R 8,023,284.60   9.14%   \n",
       "9              63893         8.30%         R 9,225,249.60  10.51%   \n",
       "10             55189         9.37%         R 9,437,714.52  10.75%   \n",
       "11             43152        11.54%         R 8,882,400.54  10.12%   \n",
       "12             32407        14.91%         R 8,271,029.40   9.42%   \n",
       "13             25417        20.12%         R 8,536,711.40   9.73%   \n",
       "14             21192        29.01%        R 10,175,826.43  11.59%   \n",
       "15             18413        41.11%        R 14,120,775.03  16.09%   \n",
       "\n",
       "              AVG subs. spend in ZAR  \\\n",
       "rfm_score_int                          \n",
       "3                            R 12.52   \n",
       "4                            R 13.40   \n",
       "5                            R 13.03   \n",
       "6                            R 12.24   \n",
       "7                            R 11.48   \n",
       "8                            R 12.75   \n",
       "9                            R 13.39   \n",
       "10                           R 16.15   \n",
       "11                           R 19.36   \n",
       "12                           R 30.25   \n",
       "13                           R 46.59   \n",
       "14                           R 82.96   \n",
       "15                          R 149.10   \n",
       "\n",
       "              subsequent_purchases in ZAR (3 month window)  \n",
       "rfm_score_int                                               \n",
       "3                                              R 67,672.48  \n",
       "4                                             R 206,710.74  \n",
       "5                                             R 378,765.21  \n",
       "6                                             R 576,140.59  \n",
       "7                                             R 705,198.68  \n",
       "8                                             R 852,480.61  \n",
       "9                                             R 855,376.33  \n",
       "10                                            R 891,531.20  \n",
       "11                                            R 835,498.79  \n",
       "12                                            R 980,317.83  \n",
       "13                                          R 1,184,071.28  \n",
       "14                                          R 1,757,985.54  \n",
       "15                                          R 2,745,438.15  "
      ]
     },
     "execution_count": 13,
     "metadata": {},
     "output_type": "execute_result"
    }
   ],
   "source": [
    "summary_data = X_test.merge(target_data,how='left', left_on=['CustomerID','date'], right_on=['CustomerID','date'])\n",
    "summary = summary_data.groupby(['rfm_score_int']).agg({'recency':'count','monetary':'sum','target':'sum','subsequent_purchases':'sum'})\n",
    "summary = summary.rename(columns = {'recency':'Count','monetary':'prior_purchases','target':'Purchase Rate'})\n",
    "summary['prior_purchases in ZAR'] = summary.prior_purchases.apply(lambda x: f'R {x:,.2f}')\n",
    "summary['Value %'] = (summary['prior_purchases']/summary['prior_purchases'].sum()*100).apply(lambda x: f'{x:.2f}%')\n",
    "summary['AVG subs. spend in ZAR'] = (summary['subsequent_purchases']/summary.Count).apply(lambda x: f'R {x:.2f}')\n",
    "summary['subsequent_purchases in ZAR (3 month window)'] = summary.subsequent_purchases.apply(lambda x: f\"R {x:,.2f}\")\n",
    "summary['Purchase Rate'] =  (summary['Purchase Rate']/summary.Count).apply( lambda x: f'{x:.2%}')\n",
    "summary.drop(['prior_purchases','subsequent_purchases'],axis=1)"
   ]
  },
  {
   "cell_type": "code",
   "execution_count": 14,
   "id": "a9a4e9a3",
   "metadata": {},
   "outputs": [
    {
     "data": {
      "application/vnd.microsoft.datawrangler.viewer.v0+json": {
       "columns": [
        {
         "name": "index",
         "rawType": "int64",
         "type": "integer"
        },
        {
         "name": "Features",
         "rawType": "object",
         "type": "string"
        },
        {
         "name": "Importances",
         "rawType": "float64",
         "type": "float"
        }
       ],
       "ref": "e6e18d94-1b8d-4a55-9e64-1d51be08dd67",
       "rows": [
        [
         "0",
         "recency",
         "18.056434631347656"
        ],
        [
         "1",
         "frequency",
         "2354.35400390625"
        ],
        [
         "2",
         "monetary",
         "298.91748046875"
        ],
        [
         "3",
         "Gender",
         "11.020784378051758"
        ],
        [
         "4",
         "Age",
         "14.183438301086426"
        ],
        [
         "5",
         "Province",
         "13.424656867980957"
        ],
        [
         "6",
         "rfm_score_int",
         "676.18896484375"
        ]
       ],
       "shape": {
        "columns": 2,
        "rows": 7
       }
      },
      "text/html": [
       "<div>\n",
       "<style scoped>\n",
       "    .dataframe tbody tr th:only-of-type {\n",
       "        vertical-align: middle;\n",
       "    }\n",
       "\n",
       "    .dataframe tbody tr th {\n",
       "        vertical-align: top;\n",
       "    }\n",
       "\n",
       "    .dataframe thead th {\n",
       "        text-align: right;\n",
       "    }\n",
       "</style>\n",
       "<table border=\"1\" class=\"dataframe\">\n",
       "  <thead>\n",
       "    <tr style=\"text-align: right;\">\n",
       "      <th></th>\n",
       "      <th>Features</th>\n",
       "      <th>Importances</th>\n",
       "    </tr>\n",
       "  </thead>\n",
       "  <tbody>\n",
       "    <tr>\n",
       "      <th>0</th>\n",
       "      <td>recency</td>\n",
       "      <td>18.056435</td>\n",
       "    </tr>\n",
       "    <tr>\n",
       "      <th>1</th>\n",
       "      <td>frequency</td>\n",
       "      <td>2354.354004</td>\n",
       "    </tr>\n",
       "    <tr>\n",
       "      <th>2</th>\n",
       "      <td>monetary</td>\n",
       "      <td>298.917480</td>\n",
       "    </tr>\n",
       "    <tr>\n",
       "      <th>3</th>\n",
       "      <td>Gender</td>\n",
       "      <td>11.020784</td>\n",
       "    </tr>\n",
       "    <tr>\n",
       "      <th>4</th>\n",
       "      <td>Age</td>\n",
       "      <td>14.183438</td>\n",
       "    </tr>\n",
       "    <tr>\n",
       "      <th>5</th>\n",
       "      <td>Province</td>\n",
       "      <td>13.424657</td>\n",
       "    </tr>\n",
       "    <tr>\n",
       "      <th>6</th>\n",
       "      <td>rfm_score_int</td>\n",
       "      <td>676.188965</td>\n",
       "    </tr>\n",
       "  </tbody>\n",
       "</table>\n",
       "</div>"
      ],
      "text/plain": [
       "        Features  Importances\n",
       "0        recency    18.056435\n",
       "1      frequency  2354.354004\n",
       "2       monetary   298.917480\n",
       "3         Gender    11.020784\n",
       "4            Age    14.183438\n",
       "5       Province    13.424657\n",
       "6  rfm_score_int   676.188965"
      ]
     },
     "execution_count": 14,
     "metadata": {},
     "output_type": "execute_result"
    }
   ],
   "source": [
    "pd.DataFrame(data = zip(X_train.columns,model.get_score(importance_type='gain').values()),columns=['Features','Importances'])"
   ]
  },
  {
   "cell_type": "code",
   "execution_count": 15,
   "id": "e8e94c63",
   "metadata": {},
   "outputs": [],
   "source": [
    "model.save_model(r'data\\PropensityToBuy.json')"
   ]
  },
  {
   "cell_type": "code",
   "execution_count": null,
   "id": "a51d2f52",
   "metadata": {},
   "outputs": [],
   "source": []
  }
 ],
 "metadata": {
  "kernelspec": {
   "display_name": ".venv (3.13.5)",
   "language": "python",
   "name": "python3"
  },
  "language_info": {
   "codemirror_mode": {
    "name": "ipython",
    "version": 3
   },
   "file_extension": ".py",
   "mimetype": "text/x-python",
   "name": "python",
   "nbconvert_exporter": "python",
   "pygments_lexer": "ipython3",
   "version": "3.13.6"
  }
 },
 "nbformat": 4,
 "nbformat_minor": 5
}
